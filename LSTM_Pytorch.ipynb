{
 "cells": [
  {
   "cell_type": "code",
   "execution_count": 1,
   "metadata": {},
   "outputs": [],
   "source": [
    "import pandas as pd\n",
    "import numpy as np\n",
    "import matplotlib.pyplot as plt"
   ]
  },
  {
   "cell_type": "code",
   "execution_count": 2,
   "metadata": {},
   "outputs": [],
   "source": [
    "import torch\n",
    "import torch.nn as nn"
   ]
  },
  {
   "cell_type": "code",
   "execution_count": 3,
   "metadata": {},
   "outputs": [],
   "source": [
    "x=torch.linspace(0,799,800)"
   ]
  },
  {
   "cell_type": "code",
   "execution_count": 4,
   "metadata": {},
   "outputs": [
    {
     "data": {
      "text/plain": [
       "tensor([  0.,   1.,   2.,   3.,   4.,   5.,   6.,   7.,   8.,   9.,  10.,  11.,\n",
       "         12.,  13.,  14.,  15.,  16.,  17.,  18.,  19.,  20.,  21.,  22.,  23.,\n",
       "         24.,  25.,  26.,  27.,  28.,  29.,  30.,  31.,  32.,  33.,  34.,  35.,\n",
       "         36.,  37.,  38.,  39.,  40.,  41.,  42.,  43.,  44.,  45.,  46.,  47.,\n",
       "         48.,  49.,  50.,  51.,  52.,  53.,  54.,  55.,  56.,  57.,  58.,  59.,\n",
       "         60.,  61.,  62.,  63.,  64.,  65.,  66.,  67.,  68.,  69.,  70.,  71.,\n",
       "         72.,  73.,  74.,  75.,  76.,  77.,  78.,  79.,  80.,  81.,  82.,  83.,\n",
       "         84.,  85.,  86.,  87.,  88.,  89.,  90.,  91.,  92.,  93.,  94.,  95.,\n",
       "         96.,  97.,  98.,  99., 100., 101., 102., 103., 104., 105., 106., 107.,\n",
       "        108., 109., 110., 111., 112., 113., 114., 115., 116., 117., 118., 119.,\n",
       "        120., 121., 122., 123., 124., 125., 126., 127., 128., 129., 130., 131.,\n",
       "        132., 133., 134., 135., 136., 137., 138., 139., 140., 141., 142., 143.,\n",
       "        144., 145., 146., 147., 148., 149., 150., 151., 152., 153., 154., 155.,\n",
       "        156., 157., 158., 159., 160., 161., 162., 163., 164., 165., 166., 167.,\n",
       "        168., 169., 170., 171., 172., 173., 174., 175., 176., 177., 178., 179.,\n",
       "        180., 181., 182., 183., 184., 185., 186., 187., 188., 189., 190., 191.,\n",
       "        192., 193., 194., 195., 196., 197., 198., 199., 200., 201., 202., 203.,\n",
       "        204., 205., 206., 207., 208., 209., 210., 211., 212., 213., 214., 215.,\n",
       "        216., 217., 218., 219., 220., 221., 222., 223., 224., 225., 226., 227.,\n",
       "        228., 229., 230., 231., 232., 233., 234., 235., 236., 237., 238., 239.,\n",
       "        240., 241., 242., 243., 244., 245., 246., 247., 248., 249., 250., 251.,\n",
       "        252., 253., 254., 255., 256., 257., 258., 259., 260., 261., 262., 263.,\n",
       "        264., 265., 266., 267., 268., 269., 270., 271., 272., 273., 274., 275.,\n",
       "        276., 277., 278., 279., 280., 281., 282., 283., 284., 285., 286., 287.,\n",
       "        288., 289., 290., 291., 292., 293., 294., 295., 296., 297., 298., 299.,\n",
       "        300., 301., 302., 303., 304., 305., 306., 307., 308., 309., 310., 311.,\n",
       "        312., 313., 314., 315., 316., 317., 318., 319., 320., 321., 322., 323.,\n",
       "        324., 325., 326., 327., 328., 329., 330., 331., 332., 333., 334., 335.,\n",
       "        336., 337., 338., 339., 340., 341., 342., 343., 344., 345., 346., 347.,\n",
       "        348., 349., 350., 351., 352., 353., 354., 355., 356., 357., 358., 359.,\n",
       "        360., 361., 362., 363., 364., 365., 366., 367., 368., 369., 370., 371.,\n",
       "        372., 373., 374., 375., 376., 377., 378., 379., 380., 381., 382., 383.,\n",
       "        384., 385., 386., 387., 388., 389., 390., 391., 392., 393., 394., 395.,\n",
       "        396., 397., 398., 399., 400., 401., 402., 403., 404., 405., 406., 407.,\n",
       "        408., 409., 410., 411., 412., 413., 414., 415., 416., 417., 418., 419.,\n",
       "        420., 421., 422., 423., 424., 425., 426., 427., 428., 429., 430., 431.,\n",
       "        432., 433., 434., 435., 436., 437., 438., 439., 440., 441., 442., 443.,\n",
       "        444., 445., 446., 447., 448., 449., 450., 451., 452., 453., 454., 455.,\n",
       "        456., 457., 458., 459., 460., 461., 462., 463., 464., 465., 466., 467.,\n",
       "        468., 469., 470., 471., 472., 473., 474., 475., 476., 477., 478., 479.,\n",
       "        480., 481., 482., 483., 484., 485., 486., 487., 488., 489., 490., 491.,\n",
       "        492., 493., 494., 495., 496., 497., 498., 499., 500., 501., 502., 503.,\n",
       "        504., 505., 506., 507., 508., 509., 510., 511., 512., 513., 514., 515.,\n",
       "        516., 517., 518., 519., 520., 521., 522., 523., 524., 525., 526., 527.,\n",
       "        528., 529., 530., 531., 532., 533., 534., 535., 536., 537., 538., 539.,\n",
       "        540., 541., 542., 543., 544., 545., 546., 547., 548., 549., 550., 551.,\n",
       "        552., 553., 554., 555., 556., 557., 558., 559., 560., 561., 562., 563.,\n",
       "        564., 565., 566., 567., 568., 569., 570., 571., 572., 573., 574., 575.,\n",
       "        576., 577., 578., 579., 580., 581., 582., 583., 584., 585., 586., 587.,\n",
       "        588., 589., 590., 591., 592., 593., 594., 595., 596., 597., 598., 599.,\n",
       "        600., 601., 602., 603., 604., 605., 606., 607., 608., 609., 610., 611.,\n",
       "        612., 613., 614., 615., 616., 617., 618., 619., 620., 621., 622., 623.,\n",
       "        624., 625., 626., 627., 628., 629., 630., 631., 632., 633., 634., 635.,\n",
       "        636., 637., 638., 639., 640., 641., 642., 643., 644., 645., 646., 647.,\n",
       "        648., 649., 650., 651., 652., 653., 654., 655., 656., 657., 658., 659.,\n",
       "        660., 661., 662., 663., 664., 665., 666., 667., 668., 669., 670., 671.,\n",
       "        672., 673., 674., 675., 676., 677., 678., 679., 680., 681., 682., 683.,\n",
       "        684., 685., 686., 687., 688., 689., 690., 691., 692., 693., 694., 695.,\n",
       "        696., 697., 698., 699., 700., 701., 702., 703., 704., 705., 706., 707.,\n",
       "        708., 709., 710., 711., 712., 713., 714., 715., 716., 717., 718., 719.,\n",
       "        720., 721., 722., 723., 724., 725., 726., 727., 728., 729., 730., 731.,\n",
       "        732., 733., 734., 735., 736., 737., 738., 739., 740., 741., 742., 743.,\n",
       "        744., 745., 746., 747., 748., 749., 750., 751., 752., 753., 754., 755.,\n",
       "        756., 757., 758., 759., 760., 761., 762., 763., 764., 765., 766., 767.,\n",
       "        768., 769., 770., 771., 772., 773., 774., 775., 776., 777., 778., 779.,\n",
       "        780., 781., 782., 783., 784., 785., 786., 787., 788., 789., 790., 791.,\n",
       "        792., 793., 794., 795., 796., 797., 798., 799.])"
      ]
     },
     "execution_count": 4,
     "metadata": {},
     "output_type": "execute_result"
    }
   ],
   "source": [
    "x"
   ]
  },
  {
   "cell_type": "code",
   "execution_count": 5,
   "metadata": {},
   "outputs": [],
   "source": [
    "y=torch.sin(2*x*3.14/40)"
   ]
  },
  {
   "cell_type": "code",
   "execution_count": 6,
   "metadata": {},
   "outputs": [
    {
     "data": {
      "text/plain": [
       "tensor([ 0.0000,  0.1564,  0.3089,  0.4538,  0.5875,  0.7068,  0.8087,  0.8908,\n",
       "         0.9509,  0.9876,  1.0000,  0.9878,  0.9514,  0.8915,  0.8097,  0.7080,\n",
       "         0.5888,  0.4552,  0.3104,  0.1579,  0.0016, -0.1548, -0.3074, -0.4524,\n",
       "        -0.5862, -0.7057, -0.8078, -0.8900, -0.9504, -0.9873, -1.0000, -0.9881,\n",
       "        -0.9518, -0.8922, -0.8106, -0.7091, -0.5901, -0.4566, -0.3119, -0.1595,\n",
       "        -0.0032,  0.1532,  0.3058,  0.4509,  0.5849,  0.7046,  0.8069,  0.8893,\n",
       "         0.9499,  0.9871,  1.0000,  0.9883,  0.9523,  0.8929,  0.8115,  0.7102,\n",
       "         0.5914,  0.4580,  0.3134,  0.1611,  0.0048, -0.1516, -0.3043, -0.4495,\n",
       "        -0.5837, -0.7034, -0.8059, -0.8886, -0.9494, -0.9868, -1.0000, -0.9886,\n",
       "        -0.9528, -0.8936, -0.8125, -0.7113, -0.5927, -0.4594, -0.3149, -0.1626,\n",
       "        -0.0064,  0.1501,  0.3028,  0.4481,  0.5824,  0.7023,  0.8050,  0.8878,\n",
       "         0.9489,  0.9866,  1.0000,  0.9888,  0.9533,  0.8943,  0.8134,  0.7124,\n",
       "         0.5940,  0.4609,  0.3164,  0.1642,  0.0080, -0.1485, -0.3013, -0.4467,\n",
       "        -0.5811, -0.7012, -0.8040, -0.8871, -0.9484, -0.9863, -1.0000, -0.9890,\n",
       "        -0.9538, -0.8951, -0.8143, -0.7136, -0.5952, -0.4623, -0.3179, -0.1658,\n",
       "        -0.0096,  0.1469,  0.2998,  0.4452,  0.5798,  0.7000,  0.8031,  0.8864,\n",
       "         0.9479,  0.9860,  0.9999,  0.9893,  0.9543,  0.8958,  0.8152,  0.7147,\n",
       "         0.5965,  0.4637,  0.3194,  0.1674,  0.0111, -0.1453, -0.2982, -0.4438,\n",
       "        -0.5785, -0.6989, -0.8021, -0.8856, -0.9473, -0.9858, -0.9999, -0.9895,\n",
       "        -0.9547, -0.8965, -0.8162, -0.7158, -0.5978, -0.4651, -0.3210, -0.1689,\n",
       "        -0.0127,  0.1438,  0.2967,  0.4424,  0.5772,  0.6978,  0.8012,  0.8849,\n",
       "         0.9468,  0.9855,  0.9999,  0.9897,  0.9552,  0.8972,  0.8171,  0.7169,\n",
       "         0.5991,  0.4665,  0.3225,  0.1705,  0.0143, -0.1422, -0.2952, -0.4410,\n",
       "        -0.5759, -0.6966, -0.8002, -0.8841, -0.9463, -0.9852, -0.9999, -0.9900,\n",
       "        -0.9557, -0.8979, -0.8180, -0.7180, -0.6003, -0.4679, -0.3240, -0.1721,\n",
       "        -0.0159,  0.1406,  0.2937,  0.4395,  0.5746,  0.6955,  0.7993,  0.8834,\n",
       "         0.9458,  0.9849,  0.9999,  0.9902,  0.9561,  0.8986,  0.8189,  0.7191,\n",
       "         0.6016,  0.4693,  0.3255,  0.1736,  0.0175, -0.1390, -0.2922, -0.4381,\n",
       "        -0.5733, -0.6943, -0.7983, -0.8827, -0.9453, -0.9847, -0.9998, -0.9904,\n",
       "        -0.9566, -0.8993, -0.8198, -0.7202, -0.6029, -0.4707, -0.3270, -0.1752,\n",
       "        -0.0191,  0.1375,  0.2906,  0.4367,  0.5720,  0.6932,  0.7973,  0.8819,\n",
       "         0.9448,  0.9844,  0.9998,  0.9906,  0.9571,  0.9000,  0.8207,  0.7213,\n",
       "         0.6042,  0.4721,  0.3285,  0.1768,  0.0207, -0.1359, -0.2891, -0.4352,\n",
       "        -0.5707, -0.6920, -0.7964, -0.8812, -0.9442, -0.9841, -0.9998, -0.9908,\n",
       "        -0.9575, -0.9007, -0.8216, -0.7224, -0.6054, -0.4735, -0.3300, -0.1783,\n",
       "        -0.0223,  0.1343,  0.2876,  0.4338,  0.5693,  0.6909,  0.7954,  0.8804,\n",
       "         0.9437,  0.9838,  0.9997,  0.9910,  0.9580,  0.9014,  0.8226,  0.7235,\n",
       "         0.6067,  0.4749,  0.3315,  0.1799,  0.0239, -0.1327, -0.2861, -0.4324,\n",
       "        -0.5680, -0.6897, -0.7945, -0.8796, -0.9432, -0.9835, -0.9997, -0.9913,\n",
       "        -0.9584, -0.9020, -0.8235, -0.7246, -0.6080, -0.4763, -0.3330, -0.1815,\n",
       "        -0.0255,  0.1311,  0.2845,  0.4309,  0.5667,  0.6886,  0.7935,  0.8789,\n",
       "         0.9427,  0.9833,  0.9997,  0.9915,  0.9589,  0.9027,  0.8244,  0.7257,\n",
       "         0.6092,  0.4777,  0.3345,  0.1830,  0.0271, -0.1296, -0.2830, -0.4295,\n",
       "        -0.5654, -0.6874, -0.7925, -0.8781, -0.9421, -0.9830, -0.9996, -0.9917,\n",
       "        -0.9593, -0.9034, -0.8253, -0.7268, -0.6105, -0.4791, -0.3360, -0.1846,\n",
       "        -0.0287,  0.1280,  0.2815,  0.4281,  0.5641,  0.6863,  0.7915,  0.8774,\n",
       "         0.9416,  0.9827,  0.9996,  0.9919,  0.9598,  0.9041,  0.8262,  0.7279,\n",
       "         0.6117,  0.4805,  0.3375,  0.1862,  0.0303, -0.1264, -0.2799, -0.4266,\n",
       "        -0.5628, -0.6851, -0.7906, -0.8766, -0.9411, -0.9824, -0.9995, -0.9921,\n",
       "        -0.9602, -0.9048, -0.8271, -0.7290, -0.6130, -0.4819, -0.3390, -0.1877,\n",
       "        -0.0318,  0.1248,  0.2784,  0.4252,  0.5615,  0.6839,  0.7896,  0.8758,\n",
       "         0.9405,  0.9821,  0.9995,  0.9923,  0.9607,  0.9055,  0.8280,  0.7301,\n",
       "         0.6143,  0.4833,  0.3405,  0.1893,  0.0334, -0.1232, -0.2769, -0.4237,\n",
       "        -0.5601, -0.6828, -0.7886, -0.8751, -0.9400, -0.9818, -0.9994, -0.9925,\n",
       "        -0.9611, -0.9061, -0.8288, -0.7312, -0.6155, -0.4847, -0.3420, -0.1909,\n",
       "        -0.0350,  0.1217,  0.2754,  0.4223,  0.5588,  0.6816,  0.7876,  0.8743,\n",
       "         0.9394,  0.9815,  0.9994,  0.9927,  0.9616,  0.9068,  0.8297,  0.7323,\n",
       "         0.6168,  0.4861,  0.3435,  0.1924,  0.0366, -0.1201, -0.2738, -0.4208,\n",
       "        -0.5575, -0.6804, -0.7867, -0.8735, -0.9389, -0.9812, -0.9993, -0.9929,\n",
       "        -0.9620, -0.9075, -0.8306, -0.7333, -0.6180, -0.4875, -0.3450, -0.1940,\n",
       "        -0.0382,  0.1185,  0.2723,  0.4194,  0.5562,  0.6793,  0.7857,  0.8727,\n",
       "         0.9383,  0.9809,  0.9992,  0.9930,  0.9624,  0.9081,  0.8315,  0.7344,\n",
       "         0.6193,  0.4889,  0.3465,  0.1955,  0.0398, -0.1169, -0.2708, -0.4179,\n",
       "        -0.5549, -0.6781, -0.7847, -0.8720, -0.9378, -0.9805, -0.9992, -0.9932,\n",
       "        -0.9629, -0.9088, -0.8324, -0.7355, -0.6205, -0.4903, -0.3480, -0.1971,\n",
       "        -0.0414,  0.1153,  0.2692,  0.4165,  0.5535,  0.6769,  0.7837,  0.8712,\n",
       "         0.9372,  0.9802,  0.9991,  0.9934,  0.9633,  0.9095,  0.8333,  0.7366,\n",
       "         0.6218,  0.4917,  0.3495,  0.1987,  0.0430, -0.1138, -0.2677, -0.4151,\n",
       "        -0.5522, -0.6758, -0.7827, -0.8704, -0.9367, -0.9799, -0.9990, -0.9936,\n",
       "        -0.9637, -0.9101, -0.8342, -0.7377, -0.6230, -0.4930, -0.3510, -0.2002,\n",
       "        -0.0446,  0.1122,  0.2662,  0.4136,  0.5509,  0.6746,  0.7817,  0.8696,\n",
       "         0.9361,  0.9796,  0.9990,  0.9938,  0.9641,  0.9108,  0.8350,  0.7387,\n",
       "         0.6243,  0.4944,  0.3524,  0.2018,  0.0462, -0.1106, -0.2646, -0.4122,\n",
       "        -0.5495, -0.6734, -0.7807, -0.8688, -0.9356, -0.9793, -0.9989, -0.9940,\n",
       "        -0.9646, -0.9114, -0.8359, -0.7398, -0.6255, -0.4958, -0.3539, -0.2033,\n",
       "        -0.0478,  0.1090,  0.2631,  0.4107,  0.5482,  0.6722,  0.7797,  0.8680,\n",
       "         0.9350,  0.9789,  0.9988,  0.9941,  0.9650,  0.9121,  0.8368,  0.7409,\n",
       "         0.6267,  0.4972,  0.3554,  0.2049,  0.0493, -0.1074, -0.2616, -0.4093,\n",
       "        -0.5469, -0.6711, -0.7787, -0.8672, -0.9344, -0.9786, -0.9987, -0.9943,\n",
       "        -0.9654, -0.9127, -0.8376, -0.7419, -0.6280, -0.4986, -0.3569, -0.2065,\n",
       "        -0.0509,  0.1058,  0.2600,  0.4078,  0.5455,  0.6699,  0.7777,  0.8664,\n",
       "         0.9339,  0.9783,  0.9987,  0.9945,  0.9658,  0.9134,  0.8385,  0.7430,\n",
       "         0.6292,  0.5000,  0.3584,  0.2080,  0.0525, -0.1043, -0.2585, -0.4063,\n",
       "        -0.5442, -0.6687, -0.7767, -0.8657, -0.9333, -0.9780, -0.9986, -0.9946,\n",
       "        -0.9662, -0.9140, -0.8394, -0.7441, -0.6305, -0.5013, -0.3599, -0.2096,\n",
       "        -0.0541,  0.1027,  0.2569,  0.4049,  0.5429,  0.6675,  0.7757,  0.8649,\n",
       "         0.9327,  0.9776,  0.9985,  0.9948,  0.9666,  0.9147,  0.8402,  0.7451,\n",
       "         0.6317,  0.5027,  0.3614,  0.2111,  0.0557, -0.1011, -0.2554, -0.4034,\n",
       "        -0.5415, -0.6663, -0.7747, -0.8640, -0.9321, -0.9773, -0.9984, -0.9950,\n",
       "        -0.9670, -0.9153, -0.8411, -0.7462, -0.6329, -0.5041, -0.3629, -0.2127,\n",
       "        -0.0573,  0.0995,  0.2539,  0.4020,  0.5402,  0.6651,  0.7737,  0.8632,\n",
       "         0.9316,  0.9769,  0.9983,  0.9951,  0.9674,  0.9160,  0.8420,  0.7473,\n",
       "         0.6342,  0.5055,  0.3643,  0.2143,  0.0589, -0.0979, -0.2523, -0.4005,\n",
       "        -0.5389, -0.6639, -0.7727, -0.8624, -0.9310, -0.9766, -0.9982, -0.9953,\n",
       "        -0.9678, -0.9166, -0.8428, -0.7483, -0.6354, -0.5068, -0.3658, -0.2158,\n",
       "        -0.0605,  0.0963,  0.2508,  0.3990,  0.5375,  0.6627,  0.7717,  0.8616,\n",
       "         0.9304,  0.9763,  0.9981,  0.9954,  0.9682,  0.9172,  0.8437,  0.7494,\n",
       "         0.6366,  0.5082,  0.3673,  0.2174,  0.0621, -0.0947, -0.2492, -0.3976,\n",
       "        -0.5362, -0.6616, -0.7707, -0.8608, -0.9298, -0.9759, -0.9980, -0.9956,\n",
       "        -0.9686, -0.9179, -0.8445, -0.7504, -0.6378, -0.5096, -0.3688, -0.2189])"
      ]
     },
     "execution_count": 6,
     "metadata": {},
     "output_type": "execute_result"
    }
   ],
   "source": [
    "y"
   ]
  },
  {
   "cell_type": "code",
   "execution_count": 7,
   "metadata": {},
   "outputs": [
    {
     "data": {
      "text/plain": [
       "[<matplotlib.lines.Line2D at 0x23aaf3da160>]"
      ]
     },
     "execution_count": 7,
     "metadata": {},
     "output_type": "execute_result"
    },
    {
     "data": {
      "image/png": "[encoded data removed]",
      "text/plain": [
       "<Figure size 720x432 with 1 Axes>"
      ]
     },
     "metadata": {
      "needs_background": "light"
     },
     "output_type": "display_data"
    }
   ],
   "source": [
    "plt.figure(figsize=(10,6))\n",
    "plt.plot(y)"
   ]
  },
  {
   "cell_type": "code",
   "execution_count": 8,
   "metadata": {},
   "outputs": [],
   "source": [
    "test_size=40"
   ]
  },
  {
   "cell_type": "code",
   "execution_count": 9,
   "metadata": {},
   "outputs": [],
   "source": [
    "test_data=y[-test_size:]"
   ]
  },
  {
   "cell_type": "code",
   "execution_count": 10,
   "metadata": {},
   "outputs": [
    {
     "data": {
      "text/plain": [
       "tensor([-0.0605,  0.0963,  0.2508,  0.3990,  0.5375,  0.6627,  0.7717,  0.8616,\n",
       "         0.9304,  0.9763,  0.9981,  0.9954,  0.9682,  0.9172,  0.8437,  0.7494,\n",
       "         0.6366,  0.5082,  0.3673,  0.2174,  0.0621, -0.0947, -0.2492, -0.3976,\n",
       "        -0.5362, -0.6616, -0.7707, -0.8608, -0.9298, -0.9759, -0.9980, -0.9956,\n",
       "        -0.9686, -0.9179, -0.8445, -0.7504, -0.6378, -0.5096, -0.3688, -0.2189])"
      ]
     },
     "execution_count": 10,
     "metadata": {},
     "output_type": "execute_result"
    }
   ],
   "source": [
    "test_data"
   ]
  },
  {
   "cell_type": "code",
   "execution_count": 11,
   "metadata": {},
   "outputs": [],
   "source": [
    "train_data=y[0:-test_size]"
   ]
  },
  {
   "cell_type": "code",
   "execution_count": 12,
   "metadata": {},
   "outputs": [
    {
     "data": {
      "text/plain": [
       "tensor([ 0.0000,  0.1564,  0.3089,  0.4538,  0.5875,  0.7068,  0.8087,  0.8908,\n",
       "         0.9509,  0.9876,  1.0000,  0.9878,  0.9514,  0.8915,  0.8097,  0.7080,\n",
       "         0.5888,  0.4552,  0.3104,  0.1579,  0.0016, -0.1548, -0.3074, -0.4524,\n",
       "        -0.5862, -0.7057, -0.8078, -0.8900, -0.9504, -0.9873, -1.0000, -0.9881,\n",
       "        -0.9518, -0.8922, -0.8106, -0.7091, -0.5901, -0.4566, -0.3119, -0.1595,\n",
       "        -0.0032,  0.1532,  0.3058,  0.4509,  0.5849,  0.7046,  0.8069,  0.8893,\n",
       "         0.9499,  0.9871,  1.0000,  0.9883,  0.9523,  0.8929,  0.8115,  0.7102,\n",
       "         0.5914,  0.4580,  0.3134,  0.1611,  0.0048, -0.1516, -0.3043, -0.4495,\n",
       "        -0.5837, -0.7034, -0.8059, -0.8886, -0.9494, -0.9868, -1.0000, -0.9886,\n",
       "        -0.9528, -0.8936, -0.8125, -0.7113, -0.5927, -0.4594, -0.3149, -0.1626,\n",
       "        -0.0064,  0.1501,  0.3028,  0.4481,  0.5824,  0.7023,  0.8050,  0.8878,\n",
       "         0.9489,  0.9866,  1.0000,  0.9888,  0.9533,  0.8943,  0.8134,  0.7124,\n",
       "         0.5940,  0.4609,  0.3164,  0.1642,  0.0080, -0.1485, -0.3013, -0.4467,\n",
       "        -0.5811, -0.7012, -0.8040, -0.8871, -0.9484, -0.9863, -1.0000, -0.9890,\n",
       "        -0.9538, -0.8951, -0.8143, -0.7136, -0.5952, -0.4623, -0.3179, -0.1658,\n",
       "        -0.0096,  0.1469,  0.2998,  0.4452,  0.5798,  0.7000,  0.8031,  0.8864,\n",
       "         0.9479,  0.9860,  0.9999,  0.9893,  0.9543,  0.8958,  0.8152,  0.7147,\n",
       "         0.5965,  0.4637,  0.3194,  0.1674,  0.0111, -0.1453, -0.2982, -0.4438,\n",
       "        -0.5785, -0.6989, -0.8021, -0.8856, -0.9473, -0.9858, -0.9999, -0.9895,\n",
       "        -0.9547, -0.8965, -0.8162, -0.7158, -0.5978, -0.4651, -0.3210, -0.1689,\n",
       "        -0.0127,  0.1438,  0.2967,  0.4424,  0.5772,  0.6978,  0.8012,  0.8849,\n",
       "         0.9468,  0.9855,  0.9999,  0.9897,  0.9552,  0.8972,  0.8171,  0.7169,\n",
       "         0.5991,  0.4665,  0.3225,  0.1705,  0.0143, -0.1422, -0.2952, -0.4410,\n",
       "        -0.5759, -0.6966, -0.8002, -0.8841, -0.9463, -0.9852, -0.9999, -0.9900,\n",
       "        -0.9557, -0.8979, -0.8180, -0.7180, -0.6003, -0.4679, -0.3240, -0.1721,\n",
       "        -0.0159,  0.1406,  0.2937,  0.4395,  0.5746,  0.6955,  0.7993,  0.8834,\n",
       "         0.9458,  0.9849,  0.9999,  0.9902,  0.9561,  0.8986,  0.8189,  0.7191,\n",
       "         0.6016,  0.4693,  0.3255,  0.1736,  0.0175, -0.1390, -0.2922, -0.4381,\n",
       "        -0.5733, -0.6943, -0.7983, -0.8827, -0.9453, -0.9847, -0.9998, -0.9904,\n",
       "        -0.9566, -0.8993, -0.8198, -0.7202, -0.6029, -0.4707, -0.3270, -0.1752,\n",
       "        -0.0191,  0.1375,  0.2906,  0.4367,  0.5720,  0.6932,  0.7973,  0.8819,\n",
       "         0.9448,  0.9844,  0.9998,  0.9906,  0.9571,  0.9000,  0.8207,  0.7213,\n",
       "         0.6042,  0.4721,  0.3285,  0.1768,  0.0207, -0.1359, -0.2891, -0.4352,\n",
       "        -0.5707, -0.6920, -0.7964, -0.8812, -0.9442, -0.9841, -0.9998, -0.9908,\n",
       "        -0.9575, -0.9007, -0.8216, -0.7224, -0.6054, -0.4735, -0.3300, -0.1783,\n",
       "        -0.0223,  0.1343,  0.2876,  0.4338,  0.5693,  0.6909,  0.7954,  0.8804,\n",
       "         0.9437,  0.9838,  0.9997,  0.9910,  0.9580,  0.9014,  0.8226,  0.7235,\n",
       "         0.6067,  0.4749,  0.3315,  0.1799,  0.0239, -0.1327, -0.2861, -0.4324,\n",
       "        -0.5680, -0.6897, -0.7945, -0.8796, -0.9432, -0.9835, -0.9997, -0.9913,\n",
       "        -0.9584, -0.9020, -0.8235, -0.7246, -0.6080, -0.4763, -0.3330, -0.1815,\n",
       "        -0.0255,  0.1311,  0.2845,  0.4309,  0.5667,  0.6886,  0.7935,  0.8789,\n",
       "         0.9427,  0.9833,  0.9997,  0.9915,  0.9589,  0.9027,  0.8244,  0.7257,\n",
       "         0.6092,  0.4777,  0.3345,  0.1830,  0.0271, -0.1296, -0.2830, -0.4295,\n",
       "        -0.5654, -0.6874, -0.7925, -0.8781, -0.9421, -0.9830, -0.9996, -0.9917,\n",
       "        -0.9593, -0.9034, -0.8253, -0.7268, -0.6105, -0.4791, -0.3360, -0.1846,\n",
       "        -0.0287,  0.1280,  0.2815,  0.4281,  0.5641,  0.6863,  0.7915,  0.8774,\n",
       "         0.9416,  0.9827,  0.9996,  0.9919,  0.9598,  0.9041,  0.8262,  0.7279,\n",
       "         0.6117,  0.4805,  0.3375,  0.1862,  0.0303, -0.1264, -0.2799, -0.4266,\n",
       "        -0.5628, -0.6851, -0.7906, -0.8766, -0.9411, -0.9824, -0.9995, -0.9921,\n",
       "        -0.9602, -0.9048, -0.8271, -0.7290, -0.6130, -0.4819, -0.3390, -0.1877,\n",
       "        -0.0318,  0.1248,  0.2784,  0.4252,  0.5615,  0.6839,  0.7896,  0.8758,\n",
       "         0.9405,  0.9821,  0.9995,  0.9923,  0.9607,  0.9055,  0.8280,  0.7301,\n",
       "         0.6143,  0.4833,  0.3405,  0.1893,  0.0334, -0.1232, -0.2769, -0.4237,\n",
       "        -0.5601, -0.6828, -0.7886, -0.8751, -0.9400, -0.9818, -0.9994, -0.9925,\n",
       "        -0.9611, -0.9061, -0.8288, -0.7312, -0.6155, -0.4847, -0.3420, -0.1909,\n",
       "        -0.0350,  0.1217,  0.2754,  0.4223,  0.5588,  0.6816,  0.7876,  0.8743,\n",
       "         0.9394,  0.9815,  0.9994,  0.9927,  0.9616,  0.9068,  0.8297,  0.7323,\n",
       "         0.6168,  0.4861,  0.3435,  0.1924,  0.0366, -0.1201, -0.2738, -0.4208,\n",
       "        -0.5575, -0.6804, -0.7867, -0.8735, -0.9389, -0.9812, -0.9993, -0.9929,\n",
       "        -0.9620, -0.9075, -0.8306, -0.7333, -0.6180, -0.4875, -0.3450, -0.1940,\n",
       "        -0.0382,  0.1185,  0.2723,  0.4194,  0.5562,  0.6793,  0.7857,  0.8727,\n",
       "         0.9383,  0.9809,  0.9992,  0.9930,  0.9624,  0.9081,  0.8315,  0.7344,\n",
       "         0.6193,  0.4889,  0.3465,  0.1955,  0.0398, -0.1169, -0.2708, -0.4179,\n",
       "        -0.5549, -0.6781, -0.7847, -0.8720, -0.9378, -0.9805, -0.9992, -0.9932,\n",
       "        -0.9629, -0.9088, -0.8324, -0.7355, -0.6205, -0.4903, -0.3480, -0.1971,\n",
       "        -0.0414,  0.1153,  0.2692,  0.4165,  0.5535,  0.6769,  0.7837,  0.8712,\n",
       "         0.9372,  0.9802,  0.9991,  0.9934,  0.9633,  0.9095,  0.8333,  0.7366,\n",
       "         0.6218,  0.4917,  0.3495,  0.1987,  0.0430, -0.1138, -0.2677, -0.4151,\n",
       "        -0.5522, -0.6758, -0.7827, -0.8704, -0.9367, -0.9799, -0.9990, -0.9936,\n",
       "        -0.9637, -0.9101, -0.8342, -0.7377, -0.6230, -0.4930, -0.3510, -0.2002,\n",
       "        -0.0446,  0.1122,  0.2662,  0.4136,  0.5509,  0.6746,  0.7817,  0.8696,\n",
       "         0.9361,  0.9796,  0.9990,  0.9938,  0.9641,  0.9108,  0.8350,  0.7387,\n",
       "         0.6243,  0.4944,  0.3524,  0.2018,  0.0462, -0.1106, -0.2646, -0.4122,\n",
       "        -0.5495, -0.6734, -0.7807, -0.8688, -0.9356, -0.9793, -0.9989, -0.9940,\n",
       "        -0.9646, -0.9114, -0.8359, -0.7398, -0.6255, -0.4958, -0.3539, -0.2033,\n",
       "        -0.0478,  0.1090,  0.2631,  0.4107,  0.5482,  0.6722,  0.7797,  0.8680,\n",
       "         0.9350,  0.9789,  0.9988,  0.9941,  0.9650,  0.9121,  0.8368,  0.7409,\n",
       "         0.6267,  0.4972,  0.3554,  0.2049,  0.0493, -0.1074, -0.2616, -0.4093,\n",
       "        -0.5469, -0.6711, -0.7787, -0.8672, -0.9344, -0.9786, -0.9987, -0.9943,\n",
       "        -0.9654, -0.9127, -0.8376, -0.7419, -0.6280, -0.4986, -0.3569, -0.2065,\n",
       "        -0.0509,  0.1058,  0.2600,  0.4078,  0.5455,  0.6699,  0.7777,  0.8664,\n",
       "         0.9339,  0.9783,  0.9987,  0.9945,  0.9658,  0.9134,  0.8385,  0.7430,\n",
       "         0.6292,  0.5000,  0.3584,  0.2080,  0.0525, -0.1043, -0.2585, -0.4063,\n",
       "        -0.5442, -0.6687, -0.7767, -0.8657, -0.9333, -0.9780, -0.9986, -0.9946,\n",
       "        -0.9662, -0.9140, -0.8394, -0.7441, -0.6305, -0.5013, -0.3599, -0.2096,\n",
       "        -0.0541,  0.1027,  0.2569,  0.4049,  0.5429,  0.6675,  0.7757,  0.8649,\n",
       "         0.9327,  0.9776,  0.9985,  0.9948,  0.9666,  0.9147,  0.8402,  0.7451,\n",
       "         0.6317,  0.5027,  0.3614,  0.2111,  0.0557, -0.1011, -0.2554, -0.4034,\n",
       "        -0.5415, -0.6663, -0.7747, -0.8640, -0.9321, -0.9773, -0.9984, -0.9950,\n",
       "        -0.9670, -0.9153, -0.8411, -0.7462, -0.6329, -0.5041, -0.3629, -0.2127,\n",
       "        -0.0573,  0.0995,  0.2539,  0.4020,  0.5402,  0.6651,  0.7737,  0.8632,\n",
       "         0.9316,  0.9769,  0.9983,  0.9951,  0.9674,  0.9160,  0.8420,  0.7473,\n",
       "         0.6342,  0.5055,  0.3643,  0.2143,  0.0589, -0.0979, -0.2523, -0.4005,\n",
       "        -0.5389, -0.6639, -0.7727, -0.8624, -0.9310, -0.9766, -0.9982, -0.9953,\n",
       "        -0.9678, -0.9166, -0.8428, -0.7483, -0.6354, -0.5068, -0.3658, -0.2158])"
      ]
     },
     "execution_count": 12,
     "metadata": {},
     "output_type": "execute_result"
    }
   ],
   "source": [
    "train_data"
   ]
  },
  {
   "cell_type": "code",
   "execution_count": 13,
   "metadata": {},
   "outputs": [
    {
     "data": {
      "text/plain": [
       "[<matplotlib.lines.Line2D at 0x23aaf4c6fa0>]"
      ]
     },
     "execution_count": 13,
     "metadata": {},
     "output_type": "execute_result"
    },
    {
     "data": {
      "image/png": "[encoded data removed]",
      "text/plain": [
       "<Figure size 720x432 with 1 Axes>"
      ]
     },
     "metadata": {
      "needs_background": "light"
     },
     "output_type": "display_data"
    }
   ],
   "source": [
    "plt.figure(figsize=(10,6))\n",
    "plt.plot(train_data)"
   ]
  },
  {
   "cell_type": "code",
   "execution_count": 14,
   "metadata": {},
   "outputs": [
    {
     "data": {
      "text/plain": [
       "760"
      ]
     },
     "execution_count": 14,
     "metadata": {},
     "output_type": "execute_result"
    }
   ],
   "source": [
    "len(train_data)"
   ]
  },
  {
   "cell_type": "code",
   "execution_count": 15,
   "metadata": {},
   "outputs": [],
   "source": [
    "def input_seq(seq,ws):\n",
    "    out=[]\n",
    "    for i in range(len(seq)-ws):\n",
    "        inputh=seq[i:i+ws]\n",
    "        label=seq[i+ws:i+ws+1]\n",
    "        out.append((inputh,label))\n",
    "    return out"
   ]
  },
  {
   "cell_type": "code",
   "execution_count": 16,
   "metadata": {},
   "outputs": [],
   "source": [
    "we=input_seq(train_data,40)"
   ]
  },
  {
   "cell_type": "code",
   "execution_count": 17,
   "metadata": {},
   "outputs": [
    {
     "data": {
      "text/plain": [
       "720"
      ]
     },
     "execution_count": 17,
     "metadata": {},
     "output_type": "execute_result"
    }
   ],
   "source": [
    "len(we)"
   ]
  },
  {
   "cell_type": "code",
   "execution_count": 18,
   "metadata": {},
   "outputs": [],
   "source": [
    "class Squence_model(nn.Module):\n",
    "    def __init__(self,in_features=1,out_features=1,hidden_size=50):\n",
    "        super().__init__()\n",
    "        self.hidden_size=hidden_size\n",
    "        self.lstm=nn.LSTM(in_features,hidden_size)\n",
    "        self.linear=nn.Linear(hidden_size,out_features)\n",
    "        self.hidden=(torch.zeros(1,1,hidden_size),torch.zeros(1,1,hidden_size))\n",
    "    def forward(self,seq):\n",
    "        lstm_out,self.hidden=self.lstm(seq.view(len(seq),1,-1),self.hidden)\n",
    "        pred=self.linear(lstm_out.view(len(seq),-1))\n",
    "        return pred[-1]"
   ]
  },
  {
   "cell_type": "code",
   "execution_count": 51,
   "metadata": {},
   "outputs": [],
   "source": [
    "model=Squence_model()"
   ]
  },
  {
   "cell_type": "code",
   "execution_count": 52,
   "metadata": {},
   "outputs": [
    {
     "data": {
      "text/plain": [
       "Squence_model(\n",
       "  (lstm): LSTM(1, 50)\n",
       "  (linear): Linear(in_features=50, out_features=1, bias=True)\n",
       ")"
      ]
     },
     "execution_count": 52,
     "metadata": {},
     "output_type": "execute_result"
    }
   ],
   "source": [
    "model"
   ]
  },
  {
   "cell_type": "code",
   "execution_count": 53,
   "metadata": {},
   "outputs": [],
   "source": [
    "criterion=nn.MSELoss()"
   ]
  },
  {
   "cell_type": "code",
   "execution_count": 54,
   "metadata": {},
   "outputs": [],
   "source": [
    "optimizer=torch.optim.SGD(model.parameters(),lr=0.001)"
   ]
  },
  {
   "cell_type": "code",
   "execution_count": 55,
   "metadata": {},
   "outputs": [],
   "source": [
    "epochs=150\n",
    "future=40\n",
    "for i in range(epochs):\n",
    "    for seq,yy in be:\n",
    "        optimizer.zero_grad()\n",
    "        model.hidden=(torch.zeros(1,1,model.hidden_size),torch.zeros(1,1,model.hidden_size))\n",
    "        y_pred=model(seq)\n",
    "        loss=criterion(y_pred,yy)\n",
    "        loss.backward()\n",
    "        optimizer.step()"
   ]
  },
  {
   "cell_type": "code",
   "execution_count": 24,
   "metadata": {},
   "outputs": [],
   "source": [
    "pred=train_data[-40:].tolist()"
   ]
  },
  {
   "cell_type": "code",
   "execution_count": 25,
   "metadata": {},
   "outputs": [
    {
     "data": {
      "text/plain": [
       "[-0.057303205132484436,\n",
       " 0.09950575232505798,\n",
       " 0.2538594901561737,\n",
       " 0.4019688665866852,\n",
       " 0.5401971340179443,\n",
       " 0.6651251912117004,\n",
       " 0.773708701133728,\n",
       " 0.8632456064224243,\n",
       " 0.931556224822998,\n",
       " 0.9769488573074341,\n",
       " 0.9983112812042236,\n",
       " 0.9951159358024597,\n",
       " 0.9674449563026428,\n",
       " 0.9159702062606812,\n",
       " 0.8419726490974426,\n",
       " 0.7472564578056335,\n",
       " 0.6341635584831238,\n",
       " 0.5054650902748108,\n",
       " 0.36433929204940796,\n",
       " 0.2142590433359146,\n",
       " 0.05888616293668747,\n",
       " -0.09791267663240433,\n",
       " -0.2523180842399597,\n",
       " -0.40050947666168213,\n",
       " -0.5388556718826294,\n",
       " -0.6639403104782104,\n",
       " -0.7726983428001404,\n",
       " -0.8624441027641296,\n",
       " -0.9309729337692261,\n",
       " -0.9766075015068054,\n",
       " -0.998216986656189,\n",
       " -0.9952719211578369,\n",
       " -0.9678450226783752,\n",
       " -0.9166083335876465,\n",
       " -0.8428270816802979,\n",
       " -0.7483091950416565,\n",
       " -0.6353946328163147,\n",
       " -0.5068457722663879,\n",
       " -0.36582258343696594,\n",
       " -0.21580757200717926]"
      ]
     },
     "execution_count": 25,
     "metadata": {},
     "output_type": "execute_result"
    }
   ],
   "source": [
    "pred"
   ]
  },
  {
   "cell_type": "code",
   "execution_count": 26,
   "metadata": {},
   "outputs": [],
   "source": [
    "for i in range(future):\n",
    "    seq=torch.FloatTensor(pred[-40:])\n",
    "    with torch.no_grad():\n",
    "        model.hidden=(torch.zeros(1,1,model.hidden_size),torch.zeros(1,1,model.hidden_size))\n",
    "        pred.append(model(seq).item())\n",
    "        "
   ]
  },
  {
   "cell_type": "code",
   "execution_count": 27,
   "metadata": {},
   "outputs": [
    {
     "data": {
      "text/plain": [
       "[-0.057303205132484436,\n",
       " 0.09950575232505798,\n",
       " 0.2538594901561737,\n",
       " 0.4019688665866852,\n",
       " 0.5401971340179443,\n",
       " 0.6651251912117004,\n",
       " 0.773708701133728,\n",
       " 0.8632456064224243,\n",
       " 0.931556224822998,\n",
       " 0.9769488573074341,\n",
       " 0.9983112812042236,\n",
       " 0.9951159358024597,\n",
       " 0.9674449563026428,\n",
       " 0.9159702062606812,\n",
       " 0.8419726490974426,\n",
       " 0.7472564578056335,\n",
       " 0.6341635584831238,\n",
       " 0.5054650902748108,\n",
       " 0.36433929204940796,\n",
       " 0.2142590433359146,\n",
       " 0.05888616293668747,\n",
       " -0.09791267663240433,\n",
       " -0.2523180842399597,\n",
       " -0.40050947666168213,\n",
       " -0.5388556718826294,\n",
       " -0.6639403104782104,\n",
       " -0.7726983428001404,\n",
       " -0.8624441027641296,\n",
       " -0.9309729337692261,\n",
       " -0.9766075015068054,\n",
       " -0.998216986656189,\n",
       " -0.9952719211578369,\n",
       " -0.9678450226783752,\n",
       " -0.9166083335876465,\n",
       " -0.8428270816802979,\n",
       " -0.7483091950416565,\n",
       " -0.6353946328163147,\n",
       " -0.5068457722663879,\n",
       " -0.36582258343696594,\n",
       " -0.21580757200717926,\n",
       " -0.06892003118991852,\n",
       " 0.09087363630533218,\n",
       " 0.2538906931877136,\n",
       " 0.41521239280700684,\n",
       " 0.5685404539108276,\n",
       " 0.7069045901298523,\n",
       " 0.8238657712936401,\n",
       " 0.9147323369979858,\n",
       " 0.9772266149520874,\n",
       " 1.0113849639892578,\n",
       " 1.0189085006713867,\n",
       " 1.0023586750030518,\n",
       " 0.9644831418991089,\n",
       " 0.9077781438827515,\n",
       " 0.8342721462249756,\n",
       " 0.7454670667648315,\n",
       " 0.6423900127410889,\n",
       " 0.5257206559181213,\n",
       " 0.39599281549453735,\n",
       " 0.25388503074645996,\n",
       " 0.10061953216791153,\n",
       " -0.06153291463851929,\n",
       " -0.22872617840766907,\n",
       " -0.3952087163925171,\n",
       " -0.5535241365432739,\n",
       " -0.6954851746559143,\n",
       " -0.8137441873550415,\n",
       " -0.9032914042472839,\n",
       " -0.962157666683197,\n",
       " -0.9911110997200012,\n",
       " -0.9927213191986084,\n",
       " -0.9703356623649597,\n",
       " -0.9273096919059753,\n",
       " -0.8665725588798523,\n",
       " -0.7904587984085083,\n",
       " -0.7007099390029907,\n",
       " -0.5985716581344604,\n",
       " -0.48494577407836914,\n",
       " -0.36058634519577026,\n",
       " -0.22634170949459076]"
      ]
     },
     "execution_count": 27,
     "metadata": {},
     "output_type": "execute_result"
    }
   ],
   "source": [
    "pred"
   ]
  },
  {
   "cell_type": "code",
   "execution_count": 28,
   "metadata": {},
   "outputs": [
    {
     "data": {
      "text/plain": [
       "<Figure size 720x432 with 0 Axes>"
      ]
     },
     "execution_count": 28,
     "metadata": {},
     "output_type": "execute_result"
    },
    {
     "data": {
      "text/plain": [
       "<Figure size 720x432 with 0 Axes>"
      ]
     },
     "metadata": {},
     "output_type": "display_data"
    }
   ],
   "source": [
    "plt.figure(figsize=(10,6))\n"
   ]
  },
  {
   "cell_type": "code",
   "execution_count": 29,
   "metadata": {},
   "outputs": [
    {
     "data": {
      "text/plain": [
       "tensor([ 0.0000,  0.1564,  0.3089,  0.4538,  0.5875,  0.7068,  0.8087,  0.8908,\n",
       "         0.9509,  0.9876,  1.0000,  0.9878,  0.9514,  0.8915,  0.8097,  0.7080,\n",
       "         0.5888,  0.4552,  0.3104,  0.1579,  0.0016, -0.1548, -0.3074, -0.4524,\n",
       "        -0.5862, -0.7057, -0.8078, -0.8900, -0.9504, -0.9873, -1.0000, -0.9881,\n",
       "        -0.9518, -0.8922, -0.8106, -0.7091, -0.5901, -0.4566, -0.3119, -0.1595,\n",
       "        -0.0032,  0.1532,  0.3058,  0.4509,  0.5849,  0.7046,  0.8069,  0.8893,\n",
       "         0.9499,  0.9871,  1.0000,  0.9883,  0.9523,  0.8929,  0.8115,  0.7102,\n",
       "         0.5914,  0.4580,  0.3134,  0.1611,  0.0048, -0.1516, -0.3043, -0.4495,\n",
       "        -0.5837, -0.7034, -0.8059, -0.8886, -0.9494, -0.9868, -1.0000, -0.9886,\n",
       "        -0.9528, -0.8936, -0.8125, -0.7113, -0.5927, -0.4594, -0.3149, -0.1626,\n",
       "        -0.0064,  0.1501,  0.3028,  0.4481,  0.5824,  0.7023,  0.8050,  0.8878,\n",
       "         0.9489,  0.9866,  1.0000,  0.9888,  0.9533,  0.8943,  0.8134,  0.7124,\n",
       "         0.5940,  0.4609,  0.3164,  0.1642,  0.0080, -0.1485, -0.3013, -0.4467,\n",
       "        -0.5811, -0.7012, -0.8040, -0.8871, -0.9484, -0.9863, -1.0000, -0.9890,\n",
       "        -0.9538, -0.8951, -0.8143, -0.7136, -0.5952, -0.4623, -0.3179, -0.1658,\n",
       "        -0.0096,  0.1469,  0.2998,  0.4452,  0.5798,  0.7000,  0.8031,  0.8864,\n",
       "         0.9479,  0.9860,  0.9999,  0.9893,  0.9543,  0.8958,  0.8152,  0.7147,\n",
       "         0.5965,  0.4637,  0.3194,  0.1674,  0.0111, -0.1453, -0.2982, -0.4438,\n",
       "        -0.5785, -0.6989, -0.8021, -0.8856, -0.9473, -0.9858, -0.9999, -0.9895,\n",
       "        -0.9547, -0.8965, -0.8162, -0.7158, -0.5978, -0.4651, -0.3210, -0.1689,\n",
       "        -0.0127,  0.1438,  0.2967,  0.4424,  0.5772,  0.6978,  0.8012,  0.8849,\n",
       "         0.9468,  0.9855,  0.9999,  0.9897,  0.9552,  0.8972,  0.8171,  0.7169,\n",
       "         0.5991,  0.4665,  0.3225,  0.1705,  0.0143, -0.1422, -0.2952, -0.4410,\n",
       "        -0.5759, -0.6966, -0.8002, -0.8841, -0.9463, -0.9852, -0.9999, -0.9900,\n",
       "        -0.9557, -0.8979, -0.8180, -0.7180, -0.6003, -0.4679, -0.3240, -0.1721,\n",
       "        -0.0159,  0.1406,  0.2937,  0.4395,  0.5746,  0.6955,  0.7993,  0.8834,\n",
       "         0.9458,  0.9849,  0.9999,  0.9902,  0.9561,  0.8986,  0.8189,  0.7191,\n",
       "         0.6016,  0.4693,  0.3255,  0.1736,  0.0175, -0.1390, -0.2922, -0.4381,\n",
       "        -0.5733, -0.6943, -0.7983, -0.8827, -0.9453, -0.9847, -0.9998, -0.9904,\n",
       "        -0.9566, -0.8993, -0.8198, -0.7202, -0.6029, -0.4707, -0.3270, -0.1752,\n",
       "        -0.0191,  0.1375,  0.2906,  0.4367,  0.5720,  0.6932,  0.7973,  0.8819,\n",
       "         0.9448,  0.9844,  0.9998,  0.9906,  0.9571,  0.9000,  0.8207,  0.7213,\n",
       "         0.6042,  0.4721,  0.3285,  0.1768,  0.0207, -0.1359, -0.2891, -0.4352,\n",
       "        -0.5707, -0.6920, -0.7964, -0.8812, -0.9442, -0.9841, -0.9998, -0.9908,\n",
       "        -0.9575, -0.9007, -0.8216, -0.7224, -0.6054, -0.4735, -0.3300, -0.1783,\n",
       "        -0.0223,  0.1343,  0.2876,  0.4338,  0.5693,  0.6909,  0.7954,  0.8804,\n",
       "         0.9437,  0.9838,  0.9997,  0.9910,  0.9580,  0.9014,  0.8226,  0.7235,\n",
       "         0.6067,  0.4749,  0.3315,  0.1799,  0.0239, -0.1327, -0.2861, -0.4324,\n",
       "        -0.5680, -0.6897, -0.7945, -0.8796, -0.9432, -0.9835, -0.9997, -0.9913,\n",
       "        -0.9584, -0.9020, -0.8235, -0.7246, -0.6080, -0.4763, -0.3330, -0.1815,\n",
       "        -0.0255,  0.1311,  0.2845,  0.4309,  0.5667,  0.6886,  0.7935,  0.8789,\n",
       "         0.9427,  0.9833,  0.9997,  0.9915,  0.9589,  0.9027,  0.8244,  0.7257,\n",
       "         0.6092,  0.4777,  0.3345,  0.1830,  0.0271, -0.1296, -0.2830, -0.4295,\n",
       "        -0.5654, -0.6874, -0.7925, -0.8781, -0.9421, -0.9830, -0.9996, -0.9917,\n",
       "        -0.9593, -0.9034, -0.8253, -0.7268, -0.6105, -0.4791, -0.3360, -0.1846,\n",
       "        -0.0287,  0.1280,  0.2815,  0.4281,  0.5641,  0.6863,  0.7915,  0.8774,\n",
       "         0.9416,  0.9827,  0.9996,  0.9919,  0.9598,  0.9041,  0.8262,  0.7279,\n",
       "         0.6117,  0.4805,  0.3375,  0.1862,  0.0303, -0.1264, -0.2799, -0.4266,\n",
       "        -0.5628, -0.6851, -0.7906, -0.8766, -0.9411, -0.9824, -0.9995, -0.9921,\n",
       "        -0.9602, -0.9048, -0.8271, -0.7290, -0.6130, -0.4819, -0.3390, -0.1877,\n",
       "        -0.0318,  0.1248,  0.2784,  0.4252,  0.5615,  0.6839,  0.7896,  0.8758,\n",
       "         0.9405,  0.9821,  0.9995,  0.9923,  0.9607,  0.9055,  0.8280,  0.7301,\n",
       "         0.6143,  0.4833,  0.3405,  0.1893,  0.0334, -0.1232, -0.2769, -0.4237,\n",
       "        -0.5601, -0.6828, -0.7886, -0.8751, -0.9400, -0.9818, -0.9994, -0.9925,\n",
       "        -0.9611, -0.9061, -0.8288, -0.7312, -0.6155, -0.4847, -0.3420, -0.1909,\n",
       "        -0.0350,  0.1217,  0.2754,  0.4223,  0.5588,  0.6816,  0.7876,  0.8743,\n",
       "         0.9394,  0.9815,  0.9994,  0.9927,  0.9616,  0.9068,  0.8297,  0.7323,\n",
       "         0.6168,  0.4861,  0.3435,  0.1924,  0.0366, -0.1201, -0.2738, -0.4208,\n",
       "        -0.5575, -0.6804, -0.7867, -0.8735, -0.9389, -0.9812, -0.9993, -0.9929,\n",
       "        -0.9620, -0.9075, -0.8306, -0.7333, -0.6180, -0.4875, -0.3450, -0.1940,\n",
       "        -0.0382,  0.1185,  0.2723,  0.4194,  0.5562,  0.6793,  0.7857,  0.8727,\n",
       "         0.9383,  0.9809,  0.9992,  0.9930,  0.9624,  0.9081,  0.8315,  0.7344,\n",
       "         0.6193,  0.4889,  0.3465,  0.1955,  0.0398, -0.1169, -0.2708, -0.4179,\n",
       "        -0.5549, -0.6781, -0.7847, -0.8720, -0.9378, -0.9805, -0.9992, -0.9932,\n",
       "        -0.9629, -0.9088, -0.8324, -0.7355, -0.6205, -0.4903, -0.3480, -0.1971,\n",
       "        -0.0414,  0.1153,  0.2692,  0.4165,  0.5535,  0.6769,  0.7837,  0.8712,\n",
       "         0.9372,  0.9802,  0.9991,  0.9934,  0.9633,  0.9095,  0.8333,  0.7366,\n",
       "         0.6218,  0.4917,  0.3495,  0.1987,  0.0430, -0.1138, -0.2677, -0.4151,\n",
       "        -0.5522, -0.6758, -0.7827, -0.8704, -0.9367, -0.9799, -0.9990, -0.9936,\n",
       "        -0.9637, -0.9101, -0.8342, -0.7377, -0.6230, -0.4930, -0.3510, -0.2002,\n",
       "        -0.0446,  0.1122,  0.2662,  0.4136,  0.5509,  0.6746,  0.7817,  0.8696,\n",
       "         0.9361,  0.9796,  0.9990,  0.9938,  0.9641,  0.9108,  0.8350,  0.7387,\n",
       "         0.6243,  0.4944,  0.3524,  0.2018,  0.0462, -0.1106, -0.2646, -0.4122,\n",
       "        -0.5495, -0.6734, -0.7807, -0.8688, -0.9356, -0.9793, -0.9989, -0.9940,\n",
       "        -0.9646, -0.9114, -0.8359, -0.7398, -0.6255, -0.4958, -0.3539, -0.2033,\n",
       "        -0.0478,  0.1090,  0.2631,  0.4107,  0.5482,  0.6722,  0.7797,  0.8680,\n",
       "         0.9350,  0.9789,  0.9988,  0.9941,  0.9650,  0.9121,  0.8368,  0.7409,\n",
       "         0.6267,  0.4972,  0.3554,  0.2049,  0.0493, -0.1074, -0.2616, -0.4093,\n",
       "        -0.5469, -0.6711, -0.7787, -0.8672, -0.9344, -0.9786, -0.9987, -0.9943,\n",
       "        -0.9654, -0.9127, -0.8376, -0.7419, -0.6280, -0.4986, -0.3569, -0.2065,\n",
       "        -0.0509,  0.1058,  0.2600,  0.4078,  0.5455,  0.6699,  0.7777,  0.8664,\n",
       "         0.9339,  0.9783,  0.9987,  0.9945,  0.9658,  0.9134,  0.8385,  0.7430,\n",
       "         0.6292,  0.5000,  0.3584,  0.2080,  0.0525, -0.1043, -0.2585, -0.4063,\n",
       "        -0.5442, -0.6687, -0.7767, -0.8657, -0.9333, -0.9780, -0.9986, -0.9946,\n",
       "        -0.9662, -0.9140, -0.8394, -0.7441, -0.6305, -0.5013, -0.3599, -0.2096,\n",
       "        -0.0541,  0.1027,  0.2569,  0.4049,  0.5429,  0.6675,  0.7757,  0.8649,\n",
       "         0.9327,  0.9776,  0.9985,  0.9948,  0.9666,  0.9147,  0.8402,  0.7451,\n",
       "         0.6317,  0.5027,  0.3614,  0.2111,  0.0557, -0.1011, -0.2554, -0.4034,\n",
       "        -0.5415, -0.6663, -0.7747, -0.8640, -0.9321, -0.9773, -0.9984, -0.9950,\n",
       "        -0.9670, -0.9153, -0.8411, -0.7462, -0.6329, -0.5041, -0.3629, -0.2127,\n",
       "        -0.0573,  0.0995,  0.2539,  0.4020,  0.5402,  0.6651,  0.7737,  0.8632,\n",
       "         0.9316,  0.9769,  0.9983,  0.9951,  0.9674,  0.9160,  0.8420,  0.7473,\n",
       "         0.6342,  0.5055,  0.3643,  0.2143,  0.0589, -0.0979, -0.2523, -0.4005,\n",
       "        -0.5389, -0.6639, -0.7727, -0.8624, -0.9310, -0.9766, -0.9982, -0.9953,\n",
       "        -0.9678, -0.9166, -0.8428, -0.7483, -0.6354, -0.5068, -0.3658, -0.2158,\n",
       "        -0.0605,  0.0963,  0.2508,  0.3990,  0.5375,  0.6627,  0.7717,  0.8616,\n",
       "         0.9304,  0.9763,  0.9981,  0.9954,  0.9682,  0.9172,  0.8437,  0.7494,\n",
       "         0.6366,  0.5082,  0.3673,  0.2174,  0.0621, -0.0947, -0.2492, -0.3976,\n",
       "        -0.5362, -0.6616, -0.7707, -0.8608, -0.9298, -0.9759, -0.9980, -0.9956,\n",
       "        -0.9686, -0.9179, -0.8445, -0.7504, -0.6378, -0.5096, -0.3688, -0.2189])"
      ]
     },
     "execution_count": 29,
     "metadata": {},
     "output_type": "execute_result"
    }
   ],
   "source": [
    "y"
   ]
  },
  {
   "cell_type": "code",
   "execution_count": 30,
   "metadata": {},
   "outputs": [
    {
     "data": {
      "text/plain": [
       "[<matplotlib.lines.Line2D at 0x23aaf5b7220>]"
      ]
     },
     "execution_count": 30,
     "metadata": {},
     "output_type": "execute_result"
    },
    {
     "data": {
      "image/png": "[encoded data removed]",
      "text/plain": [
       "<Figure size 432x288 with 1 Axes>"
      ]
     },
     "metadata": {
      "needs_background": "light"
     },
     "output_type": "display_data"
    }
   ],
   "source": [
    "plt.plot(test_data.numpy())\n",
    "plt.plot(pred[40:])"
   ]
  },
  {
   "cell_type": "code",
   "execution_count": 31,
   "metadata": {},
   "outputs": [
    {
     "data": {
      "text/plain": [
       "[-0.06892003118991852,\n",
       " 0.09087363630533218,\n",
       " 0.2538906931877136,\n",
       " 0.41521239280700684,\n",
       " 0.5685404539108276,\n",
       " 0.7069045901298523,\n",
       " 0.8238657712936401,\n",
       " 0.9147323369979858,\n",
       " 0.9772266149520874,\n",
       " 1.0113849639892578,\n",
       " 1.0189085006713867,\n",
       " 1.0023586750030518,\n",
       " 0.9644831418991089,\n",
       " 0.9077781438827515,\n",
       " 0.8342721462249756,\n",
       " 0.7454670667648315,\n",
       " 0.6423900127410889,\n",
       " 0.5257206559181213,\n",
       " 0.39599281549453735,\n",
       " 0.25388503074645996,\n",
       " 0.10061953216791153,\n",
       " -0.06153291463851929,\n",
       " -0.22872617840766907,\n",
       " -0.3952087163925171,\n",
       " -0.5535241365432739,\n",
       " -0.6954851746559143,\n",
       " -0.8137441873550415,\n",
       " -0.9032914042472839,\n",
       " -0.962157666683197,\n",
       " -0.9911110997200012,\n",
       " -0.9927213191986084,\n",
       " -0.9703356623649597,\n",
       " -0.9273096919059753,\n",
       " -0.8665725588798523,\n",
       " -0.7904587984085083,\n",
       " -0.7007099390029907,\n",
       " -0.5985716581344604,\n",
       " -0.48494577407836914,\n",
       " -0.36058634519577026,\n",
       " -0.22634170949459076]"
      ]
     },
     "execution_count": 31,
     "metadata": {},
     "output_type": "execute_result"
    }
   ],
   "source": [
    "pred[40:]"
   ]
  },
  {
   "cell_type": "code",
   "execution_count": 32,
   "metadata": {},
   "outputs": [
    {
     "data": {
      "text/plain": [
       "tensor(0.0003, grad_fn=<MseLossBackward>)"
      ]
     },
     "execution_count": 32,
     "metadata": {},
     "output_type": "execute_result"
    }
   ],
   "source": [
    "loss"
   ]
  },
  {
   "cell_type": "code",
   "execution_count": 33,
   "metadata": {},
   "outputs": [],
   "source": [
    "be=input_seq(y,40)"
   ]
  },
  {
   "cell_type": "code",
   "execution_count": 35,
   "metadata": {},
   "outputs": [
    {
     "data": {
      "text/plain": [
       "760"
      ]
     },
     "execution_count": 35,
     "metadata": {},
     "output_type": "execute_result"
    }
   ],
   "source": [
    "len(be)"
   ]
  },
  {
   "cell_type": "code",
   "execution_count": 36,
   "metadata": {},
   "outputs": [],
   "source": [
    "model1=Squence_model()"
   ]
  },
  {
   "cell_type": "code",
   "execution_count": 37,
   "metadata": {},
   "outputs": [],
   "source": [
    "epochs=100\n",
    "future=40\n",
    "for i in range(epochs):\n",
    "    for seq,yy in be:\n",
    "        optimizer.zero_grad()\n",
    "        model1.hidden=(torch.zeros(1,1,model1.hidden_size),torch.zeros(1,1,model1.hidden_size))\n",
    "        y_pred=model1(seq)\n",
    "        loss=criterion(y_pred,yy)\n",
    "        loss.backward()\n",
    "        optimizer.step()"
   ]
  },
  {
   "cell_type": "code",
   "execution_count": 38,
   "metadata": {},
   "outputs": [
    {
     "data": {
      "text/plain": [
       "[-0.06047658622264862,\n",
       " 0.0963345393538475,\n",
       " 0.25078344345092773,\n",
       " 0.3990490734577179,\n",
       " 0.5375064015388489,\n",
       " 0.6627480387687683,\n",
       " 0.7716811299324036,\n",
       " 0.8616365790367126,\n",
       " 0.930392861366272,\n",
       " 0.9762653112411499,\n",
       " 0.9981206655502319,\n",
       " 0.9954246878623962,\n",
       " 0.9682446122169495,\n",
       " 0.9172471761703491,\n",
       " 0.8436834812164307,\n",
       " 0.7493702173233032,\n",
       " 0.6366182565689087,\n",
       " 0.5082185864448547,\n",
       " 0.36729785799980164,\n",
       " 0.21736302971839905,\n",
       " 0.062066856771707535,\n",
       " -0.09474856406450272,\n",
       " -0.2492333948612213,\n",
       " -0.3975946605205536,\n",
       " -0.5361621975898743,\n",
       " -0.6615598201751709,\n",
       " -0.7706668376922607,\n",
       " -0.860826849937439,\n",
       " -0.9298076629638672,\n",
       " -0.975917398929596,\n",
       " -0.998022198677063,\n",
       " -0.9955770969390869,\n",
       " -0.9686397910118103,\n",
       " -0.917880654335022,\n",
       " -0.8445377349853516,\n",
       " -0.7504242062568665,\n",
       " -0.6378461122512817,\n",
       " -0.5095835328102112,\n",
       " -0.36879345774650574,\n",
       " -0.21891047060489655]"
      ]
     },
     "execution_count": 38,
     "metadata": {},
     "output_type": "execute_result"
    }
   ],
   "source": [
    "y[-40:].tolist()"
   ]
  },
  {
   "cell_type": "code",
   "execution_count": 57,
   "metadata": {},
   "outputs": [],
   "source": [
    "predo=y[-40:].tolist()"
   ]
  },
  {
   "cell_type": "code",
   "execution_count": 58,
   "metadata": {},
   "outputs": [
    {
     "data": {
      "text/plain": [
       "[-0.06047658622264862,\n",
       " 0.0963345393538475,\n",
       " 0.25078344345092773,\n",
       " 0.3990490734577179,\n",
       " 0.5375064015388489,\n",
       " 0.6627480387687683,\n",
       " 0.7716811299324036,\n",
       " 0.8616365790367126,\n",
       " 0.930392861366272,\n",
       " 0.9762653112411499,\n",
       " 0.9981206655502319,\n",
       " 0.9954246878623962,\n",
       " 0.9682446122169495,\n",
       " 0.9172471761703491,\n",
       " 0.8436834812164307,\n",
       " 0.7493702173233032,\n",
       " 0.6366182565689087,\n",
       " 0.5082185864448547,\n",
       " 0.36729785799980164,\n",
       " 0.21736302971839905,\n",
       " 0.062066856771707535,\n",
       " -0.09474856406450272,\n",
       " -0.2492333948612213,\n",
       " -0.3975946605205536,\n",
       " -0.5361621975898743,\n",
       " -0.6615598201751709,\n",
       " -0.7706668376922607,\n",
       " -0.860826849937439,\n",
       " -0.9298076629638672,\n",
       " -0.975917398929596,\n",
       " -0.998022198677063,\n",
       " -0.9955770969390869,\n",
       " -0.9686397910118103,\n",
       " -0.917880654335022,\n",
       " -0.8445377349853516,\n",
       " -0.7504242062568665,\n",
       " -0.6378461122512817,\n",
       " -0.5095835328102112,\n",
       " -0.36879345774650574,\n",
       " -0.21891047060489655]"
      ]
     },
     "execution_count": 58,
     "metadata": {},
     "output_type": "execute_result"
    }
   ],
   "source": [
    "predo"
   ]
  },
  {
   "cell_type": "code",
   "execution_count": 60,
   "metadata": {},
   "outputs": [],
   "source": [
    "for i in range(future):\n",
    "    seq=torch.FloatTensor(predo[-40:])\n",
    "    with torch.no_grad():\n",
    "        model.hidden=(torch.zeros(1,1,model.hidden_size),torch.zeros(1,1,model.hidden_size))\n",
    "        predo.append(model(seq).item())\n",
    "        "
   ]
  },
  {
   "cell_type": "code",
   "execution_count": 61,
   "metadata": {},
   "outputs": [
    {
     "data": {
      "text/plain": [
       "[-0.06047658622264862,\n",
       " 0.0963345393538475,\n",
       " 0.25078344345092773,\n",
       " 0.3990490734577179,\n",
       " 0.5375064015388489,\n",
       " 0.6627480387687683,\n",
       " 0.7716811299324036,\n",
       " 0.8616365790367126,\n",
       " 0.930392861366272,\n",
       " 0.9762653112411499,\n",
       " 0.9981206655502319,\n",
       " 0.9954246878623962,\n",
       " 0.9682446122169495,\n",
       " 0.9172471761703491,\n",
       " 0.8436834812164307,\n",
       " 0.7493702173233032,\n",
       " 0.6366182565689087,\n",
       " 0.5082185864448547,\n",
       " 0.36729785799980164,\n",
       " 0.21736302971839905,\n",
       " 0.062066856771707535,\n",
       " -0.09474856406450272,\n",
       " -0.2492333948612213,\n",
       " -0.3975946605205536,\n",
       " -0.5361621975898743,\n",
       " -0.6615598201751709,\n",
       " -0.7706668376922607,\n",
       " -0.860826849937439,\n",
       " -0.9298076629638672,\n",
       " -0.975917398929596,\n",
       " -0.998022198677063,\n",
       " -0.9955770969390869,\n",
       " -0.9686397910118103,\n",
       " -0.917880654335022,\n",
       " -0.8445377349853516,\n",
       " -0.7504242062568665,\n",
       " -0.6378461122512817,\n",
       " -0.5095835328102112,\n",
       " -0.36879345774650574,\n",
       " -0.21891047060489655,\n",
       " -0.06557735055685043,\n",
       " 0.09875277429819107,\n",
       " 0.26542869210243225,\n",
       " 0.42867130041122437,\n",
       " 0.5816032886505127,\n",
       " 0.7171471118927002,\n",
       " 0.8292659521102905,\n",
       " 0.9140256643295288,\n",
       " 0.9700108766555786,\n",
       " 0.9980053901672363,\n",
       " 1.0002299547195435,\n",
       " 0.9795276522636414,\n",
       " 0.93874192237854,\n",
       " 0.8803489804267883,\n",
       " 0.8063015341758728,\n",
       " 0.7180155515670776,\n",
       " 0.6164453029632568,\n",
       " 0.5022199153900146,\n",
       " 0.3758395314216614,\n",
       " 0.2379446029663086,\n",
       " 0.08967810124158859,\n",
       " -0.06686273962259293,\n",
       " -0.22815538942813873,\n",
       " -0.3889516592025757,\n",
       " -0.5424433946609497,\n",
       " -0.6811147332191467,\n",
       " -0.7981283068656921,\n",
       " -0.8886549472808838,\n",
       " -0.9505103826522827,\n",
       " -0.9839233160018921,\n",
       " -0.9907540082931519,\n",
       " -0.9736241102218628,\n",
       " -0.9352490305900574,\n",
       " -0.8780452609062195,\n",
       " -0.8039689064025879,\n",
       " -0.7145096063613892,\n",
       " -0.6107819080352783,\n",
       " -0.49368494749069214,\n",
       " -0.3641201853752136,\n",
       " -0.2232694774866104]"
      ]
     },
     "execution_count": 61,
     "metadata": {},
     "output_type": "execute_result"
    }
   ],
   "source": [
    "predo"
   ]
  },
  {
   "cell_type": "code",
   "execution_count": 69,
   "metadata": {},
   "outputs": [],
   "source": [
    "predo=torch.FloatTensor(predo)\n",
    "\n"
   ]
  },
  {
   "cell_type": "code",
   "execution_count": 72,
   "metadata": {},
   "outputs": [],
   "source": [
    "predo=predo[40:]"
   ]
  },
  {
   "cell_type": "code",
   "execution_count": 74,
   "metadata": {},
   "outputs": [],
   "source": [
    "u=torch.cat((y,predo))"
   ]
  },
  {
   "cell_type": "code",
   "execution_count": 75,
   "metadata": {},
   "outputs": [
    {
     "data": {
      "text/plain": [
       "tensor([ 0.0000,  0.1564,  0.3089,  0.4538,  0.5875,  0.7068,  0.8087,  0.8908,\n",
       "         0.9509,  0.9876,  1.0000,  0.9878,  0.9514,  0.8915,  0.8097,  0.7080,\n",
       "         0.5888,  0.4552,  0.3104,  0.1579,  0.0016, -0.1548, -0.3074, -0.4524,\n",
       "        -0.5862, -0.7057, -0.8078, -0.8900, -0.9504, -0.9873, -1.0000, -0.9881,\n",
       "        -0.9518, -0.8922, -0.8106, -0.7091, -0.5901, -0.4566, -0.3119, -0.1595,\n",
       "        -0.0032,  0.1532,  0.3058,  0.4509,  0.5849,  0.7046,  0.8069,  0.8893,\n",
       "         0.9499,  0.9871,  1.0000,  0.9883,  0.9523,  0.8929,  0.8115,  0.7102,\n",
       "         0.5914,  0.4580,  0.3134,  0.1611,  0.0048, -0.1516, -0.3043, -0.4495,\n",
       "        -0.5837, -0.7034, -0.8059, -0.8886, -0.9494, -0.9868, -1.0000, -0.9886,\n",
       "        -0.9528, -0.8936, -0.8125, -0.7113, -0.5927, -0.4594, -0.3149, -0.1626,\n",
       "        -0.0064,  0.1501,  0.3028,  0.4481,  0.5824,  0.7023,  0.8050,  0.8878,\n",
       "         0.9489,  0.9866,  1.0000,  0.9888,  0.9533,  0.8943,  0.8134,  0.7124,\n",
       "         0.5940,  0.4609,  0.3164,  0.1642,  0.0080, -0.1485, -0.3013, -0.4467,\n",
       "        -0.5811, -0.7012, -0.8040, -0.8871, -0.9484, -0.9863, -1.0000, -0.9890,\n",
       "        -0.9538, -0.8951, -0.8143, -0.7136, -0.5952, -0.4623, -0.3179, -0.1658,\n",
       "        -0.0096,  0.1469,  0.2998,  0.4452,  0.5798,  0.7000,  0.8031,  0.8864,\n",
       "         0.9479,  0.9860,  0.9999,  0.9893,  0.9543,  0.8958,  0.8152,  0.7147,\n",
       "         0.5965,  0.4637,  0.3194,  0.1674,  0.0111, -0.1453, -0.2982, -0.4438,\n",
       "        -0.5785, -0.6989, -0.8021, -0.8856, -0.9473, -0.9858, -0.9999, -0.9895,\n",
       "        -0.9547, -0.8965, -0.8162, -0.7158, -0.5978, -0.4651, -0.3210, -0.1689,\n",
       "        -0.0127,  0.1438,  0.2967,  0.4424,  0.5772,  0.6978,  0.8012,  0.8849,\n",
       "         0.9468,  0.9855,  0.9999,  0.9897,  0.9552,  0.8972,  0.8171,  0.7169,\n",
       "         0.5991,  0.4665,  0.3225,  0.1705,  0.0143, -0.1422, -0.2952, -0.4410,\n",
       "        -0.5759, -0.6966, -0.8002, -0.8841, -0.9463, -0.9852, -0.9999, -0.9900,\n",
       "        -0.9557, -0.8979, -0.8180, -0.7180, -0.6003, -0.4679, -0.3240, -0.1721,\n",
       "        -0.0159,  0.1406,  0.2937,  0.4395,  0.5746,  0.6955,  0.7993,  0.8834,\n",
       "         0.9458,  0.9849,  0.9999,  0.9902,  0.9561,  0.8986,  0.8189,  0.7191,\n",
       "         0.6016,  0.4693,  0.3255,  0.1736,  0.0175, -0.1390, -0.2922, -0.4381,\n",
       "        -0.5733, -0.6943, -0.7983, -0.8827, -0.9453, -0.9847, -0.9998, -0.9904,\n",
       "        -0.9566, -0.8993, -0.8198, -0.7202, -0.6029, -0.4707, -0.3270, -0.1752,\n",
       "        -0.0191,  0.1375,  0.2906,  0.4367,  0.5720,  0.6932,  0.7973,  0.8819,\n",
       "         0.9448,  0.9844,  0.9998,  0.9906,  0.9571,  0.9000,  0.8207,  0.7213,\n",
       "         0.6042,  0.4721,  0.3285,  0.1768,  0.0207, -0.1359, -0.2891, -0.4352,\n",
       "        -0.5707, -0.6920, -0.7964, -0.8812, -0.9442, -0.9841, -0.9998, -0.9908,\n",
       "        -0.9575, -0.9007, -0.8216, -0.7224, -0.6054, -0.4735, -0.3300, -0.1783,\n",
       "        -0.0223,  0.1343,  0.2876,  0.4338,  0.5693,  0.6909,  0.7954,  0.8804,\n",
       "         0.9437,  0.9838,  0.9997,  0.9910,  0.9580,  0.9014,  0.8226,  0.7235,\n",
       "         0.6067,  0.4749,  0.3315,  0.1799,  0.0239, -0.1327, -0.2861, -0.4324,\n",
       "        -0.5680, -0.6897, -0.7945, -0.8796, -0.9432, -0.9835, -0.9997, -0.9913,\n",
       "        -0.9584, -0.9020, -0.8235, -0.7246, -0.6080, -0.4763, -0.3330, -0.1815,\n",
       "        -0.0255,  0.1311,  0.2845,  0.4309,  0.5667,  0.6886,  0.7935,  0.8789,\n",
       "         0.9427,  0.9833,  0.9997,  0.9915,  0.9589,  0.9027,  0.8244,  0.7257,\n",
       "         0.6092,  0.4777,  0.3345,  0.1830,  0.0271, -0.1296, -0.2830, -0.4295,\n",
       "        -0.5654, -0.6874, -0.7925, -0.8781, -0.9421, -0.9830, -0.9996, -0.9917,\n",
       "        -0.9593, -0.9034, -0.8253, -0.7268, -0.6105, -0.4791, -0.3360, -0.1846,\n",
       "        -0.0287,  0.1280,  0.2815,  0.4281,  0.5641,  0.6863,  0.7915,  0.8774,\n",
       "         0.9416,  0.9827,  0.9996,  0.9919,  0.9598,  0.9041,  0.8262,  0.7279,\n",
       "         0.6117,  0.4805,  0.3375,  0.1862,  0.0303, -0.1264, -0.2799, -0.4266,\n",
       "        -0.5628, -0.6851, -0.7906, -0.8766, -0.9411, -0.9824, -0.9995, -0.9921,\n",
       "        -0.9602, -0.9048, -0.8271, -0.7290, -0.6130, -0.4819, -0.3390, -0.1877,\n",
       "        -0.0318,  0.1248,  0.2784,  0.4252,  0.5615,  0.6839,  0.7896,  0.8758,\n",
       "         0.9405,  0.9821,  0.9995,  0.9923,  0.9607,  0.9055,  0.8280,  0.7301,\n",
       "         0.6143,  0.4833,  0.3405,  0.1893,  0.0334, -0.1232, -0.2769, -0.4237,\n",
       "        -0.5601, -0.6828, -0.7886, -0.8751, -0.9400, -0.9818, -0.9994, -0.9925,\n",
       "        -0.9611, -0.9061, -0.8288, -0.7312, -0.6155, -0.4847, -0.3420, -0.1909,\n",
       "        -0.0350,  0.1217,  0.2754,  0.4223,  0.5588,  0.6816,  0.7876,  0.8743,\n",
       "         0.9394,  0.9815,  0.9994,  0.9927,  0.9616,  0.9068,  0.8297,  0.7323,\n",
       "         0.6168,  0.4861,  0.3435,  0.1924,  0.0366, -0.1201, -0.2738, -0.4208,\n",
       "        -0.5575, -0.6804, -0.7867, -0.8735, -0.9389, -0.9812, -0.9993, -0.9929,\n",
       "        -0.9620, -0.9075, -0.8306, -0.7333, -0.6180, -0.4875, -0.3450, -0.1940,\n",
       "        -0.0382,  0.1185,  0.2723,  0.4194,  0.5562,  0.6793,  0.7857,  0.8727,\n",
       "         0.9383,  0.9809,  0.9992,  0.9930,  0.9624,  0.9081,  0.8315,  0.7344,\n",
       "         0.6193,  0.4889,  0.3465,  0.1955,  0.0398, -0.1169, -0.2708, -0.4179,\n",
       "        -0.5549, -0.6781, -0.7847, -0.8720, -0.9378, -0.9805, -0.9992, -0.9932,\n",
       "        -0.9629, -0.9088, -0.8324, -0.7355, -0.6205, -0.4903, -0.3480, -0.1971,\n",
       "        -0.0414,  0.1153,  0.2692,  0.4165,  0.5535,  0.6769,  0.7837,  0.8712,\n",
       "         0.9372,  0.9802,  0.9991,  0.9934,  0.9633,  0.9095,  0.8333,  0.7366,\n",
       "         0.6218,  0.4917,  0.3495,  0.1987,  0.0430, -0.1138, -0.2677, -0.4151,\n",
       "        -0.5522, -0.6758, -0.7827, -0.8704, -0.9367, -0.9799, -0.9990, -0.9936,\n",
       "        -0.9637, -0.9101, -0.8342, -0.7377, -0.6230, -0.4930, -0.3510, -0.2002,\n",
       "        -0.0446,  0.1122,  0.2662,  0.4136,  0.5509,  0.6746,  0.7817,  0.8696,\n",
       "         0.9361,  0.9796,  0.9990,  0.9938,  0.9641,  0.9108,  0.8350,  0.7387,\n",
       "         0.6243,  0.4944,  0.3524,  0.2018,  0.0462, -0.1106, -0.2646, -0.4122,\n",
       "        -0.5495, -0.6734, -0.7807, -0.8688, -0.9356, -0.9793, -0.9989, -0.9940,\n",
       "        -0.9646, -0.9114, -0.8359, -0.7398, -0.6255, -0.4958, -0.3539, -0.2033,\n",
       "        -0.0478,  0.1090,  0.2631,  0.4107,  0.5482,  0.6722,  0.7797,  0.8680,\n",
       "         0.9350,  0.9789,  0.9988,  0.9941,  0.9650,  0.9121,  0.8368,  0.7409,\n",
       "         0.6267,  0.4972,  0.3554,  0.2049,  0.0493, -0.1074, -0.2616, -0.4093,\n",
       "        -0.5469, -0.6711, -0.7787, -0.8672, -0.9344, -0.9786, -0.9987, -0.9943,\n",
       "        -0.9654, -0.9127, -0.8376, -0.7419, -0.6280, -0.4986, -0.3569, -0.2065,\n",
       "        -0.0509,  0.1058,  0.2600,  0.4078,  0.5455,  0.6699,  0.7777,  0.8664,\n",
       "         0.9339,  0.9783,  0.9987,  0.9945,  0.9658,  0.9134,  0.8385,  0.7430,\n",
       "         0.6292,  0.5000,  0.3584,  0.2080,  0.0525, -0.1043, -0.2585, -0.4063,\n",
       "        -0.5442, -0.6687, -0.7767, -0.8657, -0.9333, -0.9780, -0.9986, -0.9946,\n",
       "        -0.9662, -0.9140, -0.8394, -0.7441, -0.6305, -0.5013, -0.3599, -0.2096,\n",
       "        -0.0541,  0.1027,  0.2569,  0.4049,  0.5429,  0.6675,  0.7757,  0.8649,\n",
       "         0.9327,  0.9776,  0.9985,  0.9948,  0.9666,  0.9147,  0.8402,  0.7451,\n",
       "         0.6317,  0.5027,  0.3614,  0.2111,  0.0557, -0.1011, -0.2554, -0.4034,\n",
       "        -0.5415, -0.6663, -0.7747, -0.8640, -0.9321, -0.9773, -0.9984, -0.9950,\n",
       "        -0.9670, -0.9153, -0.8411, -0.7462, -0.6329, -0.5041, -0.3629, -0.2127,\n",
       "        -0.0573,  0.0995,  0.2539,  0.4020,  0.5402,  0.6651,  0.7737,  0.8632,\n",
       "         0.9316,  0.9769,  0.9983,  0.9951,  0.9674,  0.9160,  0.8420,  0.7473,\n",
       "         0.6342,  0.5055,  0.3643,  0.2143,  0.0589, -0.0979, -0.2523, -0.4005,\n",
       "        -0.5389, -0.6639, -0.7727, -0.8624, -0.9310, -0.9766, -0.9982, -0.9953,\n",
       "        -0.9678, -0.9166, -0.8428, -0.7483, -0.6354, -0.5068, -0.3658, -0.2158,\n",
       "        -0.0605,  0.0963,  0.2508,  0.3990,  0.5375,  0.6627,  0.7717,  0.8616,\n",
       "         0.9304,  0.9763,  0.9981,  0.9954,  0.9682,  0.9172,  0.8437,  0.7494,\n",
       "         0.6366,  0.5082,  0.3673,  0.2174,  0.0621, -0.0947, -0.2492, -0.3976,\n",
       "        -0.5362, -0.6616, -0.7707, -0.8608, -0.9298, -0.9759, -0.9980, -0.9956,\n",
       "        -0.9686, -0.9179, -0.8445, -0.7504, -0.6378, -0.5096, -0.3688, -0.2189,\n",
       "        -0.0656,  0.0988,  0.2654,  0.4287,  0.5816,  0.7171,  0.8293,  0.9140,\n",
       "         0.9700,  0.9980,  1.0002,  0.9795,  0.9387,  0.8803,  0.8063,  0.7180,\n",
       "         0.6164,  0.5022,  0.3758,  0.2379,  0.0897, -0.0669, -0.2282, -0.3890,\n",
       "        -0.5424, -0.6811, -0.7981, -0.8887, -0.9505, -0.9839, -0.9908, -0.9736,\n",
       "        -0.9352, -0.8780, -0.8040, -0.7145, -0.6108, -0.4937, -0.3641, -0.2233])"
      ]
     },
     "execution_count": 75,
     "metadata": {},
     "output_type": "execute_result"
    }
   ],
   "source": [
    "u"
   ]
  },
  {
   "cell_type": "code",
   "execution_count": 76,
   "metadata": {},
   "outputs": [
    {
     "data": {
      "text/plain": [
       "[<matplotlib.lines.Line2D at 0x23ab9512640>]"
      ]
     },
     "execution_count": 76,
     "metadata": {},
     "output_type": "execute_result"
    },
    {
     "data": {
      "image/png": "[encoded data removed]",
      "text/plain": [
       "<Figure size 432x288 with 1 Axes>"
      ]
     },
     "metadata": {
      "needs_background": "light"
     },
     "output_type": "display_data"
    }
   ],
   "source": [
    "plt.plot(u.numpy())"
   ]
  },
  {
   "cell_type": "code",
   "execution_count": null,
   "metadata": {},
   "outputs": [],
   "source": []
  }
 ],
 "metadata": {
  "kernelspec": {
   "display_name": "Python 3",
   "language": "python",
   "name": "python3"
  },
  "language_info": {
   "codemirror_mode": {
    "name": "ipython",
    "version": 3
   },
   "file_extension": ".py",
   "mimetype": "text/x-python",
   "name": "python",
   "nbconvert_exporter": "python",
   "pygments_lexer": "ipython3",
   "version": "3.8.5"
  }
 },
 "nbformat": 4,
 "nbformat_minor": 4
}
